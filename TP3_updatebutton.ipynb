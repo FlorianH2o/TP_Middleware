{
 "cells": [
  {
   "cell_type": "code",
   "execution_count": 1,
   "id": "615b1bb8",
   "metadata": {},
   "outputs": [
    {
     "name": "stdout",
     "output_type": "stream",
     "text": [
      "405\n",
      "{'Server': 'Werkzeug/2.2.2 Python/3.9.12, ACME 0.10.2', 'Date': 'Mon, 16 Jan 2023 16:24:05 GMT', 'X-M2M-RSC': '4005', 'X-M2M-RI': '123', 'X-M2M-RVI': '3', 'X-M2M-OT': '20230116T162405,118562', 'Content-Type': 'application/json', 'Content-Length': '36', 'Connection': 'close'}\n",
      "{\"m2m:dbg\": \"resource is read-only\"}\n"
     ]
    }
   ],
   "source": [
    "import sys\n",
    "import requests\n",
    "import json\n",
    "\n",
    "\n",
    "def handleResponse(r):\n",
    "    print (r.status_code)\n",
    "    print (r.headers)\n",
    "    print (r.text)\n",
    "    return;\n",
    "\n",
    "def updateCINBouton():\n",
    "    payload = '{ \\\n",
    "    \"m2m:cin\": { \\\n",
    "        \"con\": \"1\" \\\n",
    "    } \\\n",
    "    }'\n",
    "    \n",
    "\n",
    "    _headers = {\n",
    "    \"X-M2M-Origin\": \"Cmyself2\",\n",
    "    \"X-M2M-RI\": \"123\",\n",
    "    \"X-M2M-RVI\":\"3\",\n",
    "    \"Content-Type\":\"application/json;ty=4\",\n",
    "    \"Accept\":\"application/json\"\n",
    "    }\n",
    "    json.dumps(json.loads(payload,strict=False), indent=4)\n",
    "    r = requests.put(\"http://127.0.0.1:8080/cse-in/AE2/Bouton/CIN2\",data=payload,headers=_headers)\n",
    "    handleResponse(r)\n",
    "    \n",
    "updateCINBouton()"
   ]
  },
  {
   "cell_type": "code",
   "execution_count": null,
   "id": "c50f7ae9",
   "metadata": {},
   "outputs": [],
   "source": []
  }
 ],
 "metadata": {
  "kernelspec": {
   "display_name": "Python 3 (ipykernel)",
   "language": "python",
   "name": "python3"
  },
  "language_info": {
   "codemirror_mode": {
    "name": "ipython",
    "version": 3
   },
   "file_extension": ".py",
   "mimetype": "text/x-python",
   "name": "python",
   "nbconvert_exporter": "python",
   "pygments_lexer": "ipython3",
   "version": "3.9.12"
  }
 },
 "nbformat": 4,
 "nbformat_minor": 5
}
